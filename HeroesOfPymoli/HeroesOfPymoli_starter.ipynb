{
 "cells": [
  {
   "cell_type": "markdown",
   "metadata": {},
   "source": [
    "### Note\n",
    "* Instructions have been included for each segment. You do not have to follow them exactly, but they are included to help you think through the steps."
   ]
  },
  {
   "cell_type": "code",
   "execution_count": 1,
   "metadata": {},
   "outputs": [
    {
     "data": {
      "text/html": [
       "<div>\n",
       "<style scoped>\n",
       "    .dataframe tbody tr th:only-of-type {\n",
       "        vertical-align: middle;\n",
       "    }\n",
       "\n",
       "    .dataframe tbody tr th {\n",
       "        vertical-align: top;\n",
       "    }\n",
       "\n",
       "    .dataframe thead th {\n",
       "        text-align: right;\n",
       "    }\n",
       "</style>\n",
       "<table border=\"1\" class=\"dataframe\">\n",
       "  <thead>\n",
       "    <tr style=\"text-align: right;\">\n",
       "      <th></th>\n",
       "      <th>Purchase ID</th>\n",
       "      <th>SN</th>\n",
       "      <th>Age</th>\n",
       "      <th>Gender</th>\n",
       "      <th>Item ID</th>\n",
       "      <th>Item Name</th>\n",
       "      <th>Price</th>\n",
       "    </tr>\n",
       "  </thead>\n",
       "  <tbody>\n",
       "    <tr>\n",
       "      <th>0</th>\n",
       "      <td>0</td>\n",
       "      <td>Lisim78</td>\n",
       "      <td>20</td>\n",
       "      <td>Male</td>\n",
       "      <td>108</td>\n",
       "      <td>Extraction, Quickblade Of Trembling Hands</td>\n",
       "      <td>3.53</td>\n",
       "    </tr>\n",
       "    <tr>\n",
       "      <th>1</th>\n",
       "      <td>1</td>\n",
       "      <td>Lisovynya38</td>\n",
       "      <td>40</td>\n",
       "      <td>Male</td>\n",
       "      <td>143</td>\n",
       "      <td>Frenzied Scimitar</td>\n",
       "      <td>1.56</td>\n",
       "    </tr>\n",
       "    <tr>\n",
       "      <th>2</th>\n",
       "      <td>2</td>\n",
       "      <td>Ithergue48</td>\n",
       "      <td>24</td>\n",
       "      <td>Male</td>\n",
       "      <td>92</td>\n",
       "      <td>Final Critic</td>\n",
       "      <td>4.88</td>\n",
       "    </tr>\n",
       "    <tr>\n",
       "      <th>3</th>\n",
       "      <td>3</td>\n",
       "      <td>Chamassasya86</td>\n",
       "      <td>24</td>\n",
       "      <td>Male</td>\n",
       "      <td>100</td>\n",
       "      <td>Blindscythe</td>\n",
       "      <td>3.27</td>\n",
       "    </tr>\n",
       "    <tr>\n",
       "      <th>4</th>\n",
       "      <td>4</td>\n",
       "      <td>Iskosia90</td>\n",
       "      <td>23</td>\n",
       "      <td>Male</td>\n",
       "      <td>131</td>\n",
       "      <td>Fury</td>\n",
       "      <td>1.44</td>\n",
       "    </tr>\n",
       "    <tr>\n",
       "      <th>5</th>\n",
       "      <td>5</td>\n",
       "      <td>Yalae81</td>\n",
       "      <td>22</td>\n",
       "      <td>Male</td>\n",
       "      <td>81</td>\n",
       "      <td>Dreamkiss</td>\n",
       "      <td>3.61</td>\n",
       "    </tr>\n",
       "    <tr>\n",
       "      <th>6</th>\n",
       "      <td>6</td>\n",
       "      <td>Itheria73</td>\n",
       "      <td>36</td>\n",
       "      <td>Male</td>\n",
       "      <td>169</td>\n",
       "      <td>Interrogator, Blood Blade of the Queen</td>\n",
       "      <td>2.18</td>\n",
       "    </tr>\n",
       "    <tr>\n",
       "      <th>7</th>\n",
       "      <td>7</td>\n",
       "      <td>Iskjaskst81</td>\n",
       "      <td>20</td>\n",
       "      <td>Male</td>\n",
       "      <td>162</td>\n",
       "      <td>Abyssal Shard</td>\n",
       "      <td>2.67</td>\n",
       "    </tr>\n",
       "    <tr>\n",
       "      <th>8</th>\n",
       "      <td>8</td>\n",
       "      <td>Undjask33</td>\n",
       "      <td>22</td>\n",
       "      <td>Male</td>\n",
       "      <td>21</td>\n",
       "      <td>Souleater</td>\n",
       "      <td>1.10</td>\n",
       "    </tr>\n",
       "    <tr>\n",
       "      <th>9</th>\n",
       "      <td>9</td>\n",
       "      <td>Chanosian48</td>\n",
       "      <td>35</td>\n",
       "      <td>Other / Non-Disclosed</td>\n",
       "      <td>136</td>\n",
       "      <td>Ghastly Adamantite Protector</td>\n",
       "      <td>3.58</td>\n",
       "    </tr>\n",
       "  </tbody>\n",
       "</table>\n",
       "</div>"
      ],
      "text/plain": [
       "   Purchase ID             SN  Age                 Gender  Item ID  \\\n",
       "0            0        Lisim78   20                   Male      108   \n",
       "1            1    Lisovynya38   40                   Male      143   \n",
       "2            2     Ithergue48   24                   Male       92   \n",
       "3            3  Chamassasya86   24                   Male      100   \n",
       "4            4      Iskosia90   23                   Male      131   \n",
       "5            5        Yalae81   22                   Male       81   \n",
       "6            6      Itheria73   36                   Male      169   \n",
       "7            7    Iskjaskst81   20                   Male      162   \n",
       "8            8      Undjask33   22                   Male       21   \n",
       "9            9    Chanosian48   35  Other / Non-Disclosed      136   \n",
       "\n",
       "                                   Item Name  Price  \n",
       "0  Extraction, Quickblade Of Trembling Hands   3.53  \n",
       "1                          Frenzied Scimitar   1.56  \n",
       "2                               Final Critic   4.88  \n",
       "3                                Blindscythe   3.27  \n",
       "4                                       Fury   1.44  \n",
       "5                                  Dreamkiss   3.61  \n",
       "6     Interrogator, Blood Blade of the Queen   2.18  \n",
       "7                              Abyssal Shard   2.67  \n",
       "8                                  Souleater   1.10  \n",
       "9               Ghastly Adamantite Protector   3.58  "
      ]
     },
     "execution_count": 1,
     "metadata": {},
     "output_type": "execute_result"
    }
   ],
   "source": [
    "# Dependencies and Setup\n",
    "import pandas as pd\n",
    "import numpy as np\n",
    "\n",
    "# File to Load (Remember to Change These)\n",
    "file_to_load = \"Resources/purchase_data.csv\"\n",
    "\n",
    "# Read Purchasing File and store into Pandas data frame\n",
    "purchase_data_df = pd.read_csv(file_to_load)\n",
    "purchase_data_df.head(10)"
   ]
  },
  {
   "cell_type": "markdown",
   "metadata": {},
   "source": [
    "## Player Count"
   ]
  },
  {
   "cell_type": "markdown",
   "metadata": {},
   "source": [
    "* Display the total number of players\n"
   ]
  },
  {
   "cell_type": "code",
   "execution_count": 2,
   "metadata": {},
   "outputs": [
    {
     "data": {
      "text/html": [
       "<div>\n",
       "<style scoped>\n",
       "    .dataframe tbody tr th:only-of-type {\n",
       "        vertical-align: middle;\n",
       "    }\n",
       "\n",
       "    .dataframe tbody tr th {\n",
       "        vertical-align: top;\n",
       "    }\n",
       "\n",
       "    .dataframe thead th {\n",
       "        text-align: right;\n",
       "    }\n",
       "</style>\n",
       "<table border=\"1\" class=\"dataframe\">\n",
       "  <thead>\n",
       "    <tr style=\"text-align: right;\">\n",
       "      <th></th>\n",
       "      <th>Total Players</th>\n",
       "    </tr>\n",
       "  </thead>\n",
       "  <tbody>\n",
       "    <tr>\n",
       "      <th>0</th>\n",
       "      <td>576</td>\n",
       "    </tr>\n",
       "  </tbody>\n",
       "</table>\n",
       "</div>"
      ],
      "text/plain": [
       "   Total Players\n",
       "0            576"
      ]
     },
     "execution_count": 2,
     "metadata": {},
     "output_type": "execute_result"
    }
   ],
   "source": [
    "# Calculate total number of players\n",
    "total_players = len(purchase_data_df[\"SN\"].unique())\n",
    "\n",
    "#Input total number of players into a data frame\n",
    "pd.DataFrame([{\"Total Players\":total_players}])"
   ]
  },
  {
   "cell_type": "markdown",
   "metadata": {},
   "source": [
    "## Purchasing Analysis (Total)"
   ]
  },
  {
   "cell_type": "markdown",
   "metadata": {},
   "source": [
    "* Run basic calculations to obtain number of unique items, average price, etc.\n",
    "\n",
    "\n",
    "* Create a summary data frame to hold the results\n",
    "\n",
    "\n",
    "* Optional: give the displayed data cleaner formatting\n",
    "\n",
    "\n",
    "* Display the summary data frame"
   ]
  },
  {
   "cell_type": "code",
   "execution_count": 3,
   "metadata": {
    "scrolled": true
   },
   "outputs": [
    {
     "data": {
      "text/html": [
       "<div>\n",
       "<style scoped>\n",
       "    .dataframe tbody tr th:only-of-type {\n",
       "        vertical-align: middle;\n",
       "    }\n",
       "\n",
       "    .dataframe tbody tr th {\n",
       "        vertical-align: top;\n",
       "    }\n",
       "\n",
       "    .dataframe thead th {\n",
       "        text-align: right;\n",
       "    }\n",
       "</style>\n",
       "<table border=\"1\" class=\"dataframe\">\n",
       "  <thead>\n",
       "    <tr style=\"text-align: right;\">\n",
       "      <th></th>\n",
       "      <th>Number of Unique Items</th>\n",
       "      <th>Average Price</th>\n",
       "      <th>Number of Purchases</th>\n",
       "      <th>Total Revenue</th>\n",
       "    </tr>\n",
       "  </thead>\n",
       "  <tbody>\n",
       "    <tr>\n",
       "      <th>0</th>\n",
       "      <td>179</td>\n",
       "      <td>$3.05</td>\n",
       "      <td>780</td>\n",
       "      <td>$2379.77</td>\n",
       "    </tr>\n",
       "  </tbody>\n",
       "</table>\n",
       "</div>"
      ],
      "text/plain": [
       "   Number of Unique Items Average Price  Number of Purchases Total Revenue\n",
       "0                     179         $3.05                  780      $2379.77"
      ]
     },
     "execution_count": 3,
     "metadata": {},
     "output_type": "execute_result"
    }
   ],
   "source": [
    "# Calculate number of unique items\n",
    "unique_items = len(purchase_data_df[\"Item ID\"].unique())\n",
    "\n",
    "# Calculate average price\n",
    "average_items_price = round(purchase_data_df[\"Price\"].mean(),2)\n",
    "\n",
    "# Calculate number of purchases\n",
    "number_of_purchases = len(purchase_data_df[\"Purchase ID\"])\n",
    "\n",
    "#Calculate total revenue\n",
    "total_revenue = purchase_data_df[\"Price\"].sum()\n",
    "\n",
    "#Create a summary data frame to hold the results\n",
    "summary_purchase_data_df = pd.DataFrame({\n",
    "    \"Number of Unique Items\": [unique_items],\n",
    "    \"Average Price\": [f\"${average_items_price}\"],\n",
    "    \"Number of Purchases\": [number_of_purchases],\n",
    "    \"Total Revenue\": [f\"${total_revenue}\"]\n",
    "})\n",
    "\n",
    "summary_purchase_data_df"
   ]
  },
  {
   "cell_type": "markdown",
   "metadata": {},
   "source": [
    "## Gender Demographics"
   ]
  },
  {
   "cell_type": "markdown",
   "metadata": {},
   "source": [
    "* Percentage and Count of Male Players\n",
    "\n",
    "\n",
    "* Percentage and Count of Female Players\n",
    "\n",
    "\n",
    "* Percentage and Count of Other / Non-Disclosed"
   ]
  },
  {
   "cell_type": "code",
   "execution_count": 4,
   "metadata": {
    "scrolled": true
   },
   "outputs": [
    {
     "data": {
      "text/html": [
       "<div>\n",
       "<style scoped>\n",
       "    .dataframe tbody tr th:only-of-type {\n",
       "        vertical-align: middle;\n",
       "    }\n",
       "\n",
       "    .dataframe tbody tr th {\n",
       "        vertical-align: top;\n",
       "    }\n",
       "\n",
       "    .dataframe thead th {\n",
       "        text-align: right;\n",
       "    }\n",
       "</style>\n",
       "<table border=\"1\" class=\"dataframe\">\n",
       "  <thead>\n",
       "    <tr style=\"text-align: right;\">\n",
       "      <th></th>\n",
       "      <th>Total Count</th>\n",
       "      <th>Percentage of Players</th>\n",
       "    </tr>\n",
       "  </thead>\n",
       "  <tbody>\n",
       "    <tr>\n",
       "      <th>Male</th>\n",
       "      <td>484</td>\n",
       "      <td>84.03%</td>\n",
       "    </tr>\n",
       "    <tr>\n",
       "      <th>Female</th>\n",
       "      <td>81</td>\n",
       "      <td>14.06%</td>\n",
       "    </tr>\n",
       "    <tr>\n",
       "      <th>Other / Non-Disclosed</th>\n",
       "      <td>11</td>\n",
       "      <td>1.91%</td>\n",
       "    </tr>\n",
       "  </tbody>\n",
       "</table>\n",
       "</div>"
      ],
      "text/plain": [
       "                       Total Count Percentage of Players\n",
       "Male                           484                84.03%\n",
       "Female                          81                14.06%\n",
       "Other / Non-Disclosed           11                 1.91%"
      ]
     },
     "execution_count": 4,
     "metadata": {},
     "output_type": "execute_result"
    }
   ],
   "source": [
    "# Calculate total number of players\n",
    "total_players = len(purchase_data_df[\"SN\"].unique())\n",
    "\n",
    "# Find count of male players\n",
    "male_users = purchase_data_df.loc[purchase_data_df[\"Gender\"] == \"Male\"]\n",
    "male_only_user_count = len(male_users[\"SN\"].unique())\n",
    "\n",
    "#Find count of female players\n",
    "female_users = purchase_data_df.loc[purchase_data_df[\"Gender\"] == \"Female\"]\n",
    "female_only_user_count = len(female_users[\"SN\"].unique())\n",
    "\n",
    "#Find other players\n",
    "other_users = purchase_data_df.loc[(purchase_data_df[\"Gender\"] != \"Female\") & (purchase_data_df[\"Gender\"] != \"Male\")]\n",
    "other_only_user_count = len(other_users[\"SN\"].unique())\n",
    "\n",
    "#Percentage of players by gender\n",
    "percentage_male = f\"{round(male_only_user_count/total_players*100,2)}%\"\n",
    "percentage_female = f\"{round(female_only_user_count/total_players*100,2)}%\"\n",
    "percentage_other = f\"{round(other_only_user_count/total_players*100,2)}%\"\n",
    "\n",
    "# Create DataFrame\n",
    "player_counts = [male_only_user_count, female_only_user_count, other_only_user_count]\n",
    "player_pcts = [percentage_male, percentage_female, percentage_other]\n",
    "genders = [\"Male\", \"Female\", \"Other / Non-Disclosed\"]\n",
    "\n",
    "pd.DataFrame({\n",
    "    \"Total Count\": player_counts,\n",
    "    \"Percentage of Players\": player_pcts\n",
    "}, \n",
    "index=genders)"
   ]
  },
  {
   "cell_type": "markdown",
   "metadata": {},
   "source": [
    "\n",
    "## Purchasing Analysis (Gender)"
   ]
  },
  {
   "cell_type": "markdown",
   "metadata": {},
   "source": [
    "* Run basic calculations to obtain purchase count, avg. purchase price, avg. purchase total per person etc. by gender\n",
    "\n",
    "\n",
    "\n",
    "\n",
    "* Create a summary data frame to hold the results\n",
    "\n",
    "\n",
    "* Optional: give the displayed data cleaner formatting\n",
    "\n",
    "\n",
    "* Display the summary data frame"
   ]
  },
  {
   "cell_type": "code",
   "execution_count": 5,
   "metadata": {},
   "outputs": [
    {
     "data": {
      "text/html": [
       "<style  type=\"text/css\" >\n",
       "</style><table id=\"T_38180f18_3b06_11eb_822b_9801a7991ed5\" ><thead>    <tr>        <th class=\"blank level0\" ></th>        <th class=\"col_heading level0 col0\" >Purchase Count</th>        <th class=\"col_heading level0 col1\" >Average Purchase Price</th>        <th class=\"col_heading level0 col2\" >Total Purchase Value</th>        <th class=\"col_heading level0 col3\" >Average Total Purchase Per Person</th>    </tr></thead><tbody>\n",
       "                <tr>\n",
       "                        <th id=\"T_38180f18_3b06_11eb_822b_9801a7991ed5level0_row0\" class=\"row_heading level0 row0\" >Male</th>\n",
       "                        <td id=\"T_38180f18_3b06_11eb_822b_9801a7991ed5row0_col0\" class=\"data row0 col0\" >652</td>\n",
       "                        <td id=\"T_38180f18_3b06_11eb_822b_9801a7991ed5row0_col1\" class=\"data row0 col1\" >$3.02</td>\n",
       "                        <td id=\"T_38180f18_3b06_11eb_822b_9801a7991ed5row0_col2\" class=\"data row0 col2\" >$1,967.64</td>\n",
       "                        <td id=\"T_38180f18_3b06_11eb_822b_9801a7991ed5row0_col3\" class=\"data row0 col3\" >$4.07</td>\n",
       "            </tr>\n",
       "            <tr>\n",
       "                        <th id=\"T_38180f18_3b06_11eb_822b_9801a7991ed5level0_row1\" class=\"row_heading level0 row1\" >Female</th>\n",
       "                        <td id=\"T_38180f18_3b06_11eb_822b_9801a7991ed5row1_col0\" class=\"data row1 col0\" >113</td>\n",
       "                        <td id=\"T_38180f18_3b06_11eb_822b_9801a7991ed5row1_col1\" class=\"data row1 col1\" >$3.20</td>\n",
       "                        <td id=\"T_38180f18_3b06_11eb_822b_9801a7991ed5row1_col2\" class=\"data row1 col2\" >$361.94</td>\n",
       "                        <td id=\"T_38180f18_3b06_11eb_822b_9801a7991ed5row1_col3\" class=\"data row1 col3\" >$4.47</td>\n",
       "            </tr>\n",
       "            <tr>\n",
       "                        <th id=\"T_38180f18_3b06_11eb_822b_9801a7991ed5level0_row2\" class=\"row_heading level0 row2\" >Other / Non-Disclosed</th>\n",
       "                        <td id=\"T_38180f18_3b06_11eb_822b_9801a7991ed5row2_col0\" class=\"data row2 col0\" >15</td>\n",
       "                        <td id=\"T_38180f18_3b06_11eb_822b_9801a7991ed5row2_col1\" class=\"data row2 col1\" >$3.35</td>\n",
       "                        <td id=\"T_38180f18_3b06_11eb_822b_9801a7991ed5row2_col2\" class=\"data row2 col2\" >$50.19</td>\n",
       "                        <td id=\"T_38180f18_3b06_11eb_822b_9801a7991ed5row2_col3\" class=\"data row2 col3\" >$4.56</td>\n",
       "            </tr>\n",
       "    </tbody></table>"
      ],
      "text/plain": [
       "<pandas.io.formats.style.Styler at 0x7f93e3417610>"
      ]
     },
     "execution_count": 5,
     "metadata": {},
     "output_type": "execute_result"
    }
   ],
   "source": [
    "# Calculate purchase count by gender\n",
    "gender_count = purchase_data_df[\"Gender\"].value_counts()\n",
    "\n",
    "# Using GroupBy in order to separate the data into fields according to \"state\" values\n",
    "grouped_gender = purchase_data_df.groupby(['Gender'])\n",
    "\n",
    "# Count the total of screen names \"SN\" by gender\n",
    "total_count_gender_sn = grouped_gender.nunique()[\"SN\"]\n",
    "\n",
    "#Finding average purchase price by gender\n",
    "gender_average_price = grouped_gender['Price'].mean()\n",
    "\n",
    "#Finding total purchase value by gender\n",
    "gender_total_price = grouped_gender['Price'].sum()\n",
    "\n",
    "#Finding average total purchase per person\n",
    "gender_average_price_person = gender_total_price/total_count_gender_sn\n",
    "\n",
    "#Create Data Frame\n",
    "grouped_gender_df = pd.DataFrame({\n",
    "    \"Purchase Count\": gender_count,\n",
    "    \"Average Purchase Price\": gender_average_price,\n",
    "    \"Total Purchase Value\": gender_total_price,\n",
    "    \"Average Total Purchase Per Person\": gender_average_price_person\n",
    "}, \n",
    "index=genders)\n",
    "\n",
    "grouped_gender_df.style.format({\"Average Purchase Price\":\"${:,.2f}\",\n",
    "                         \"Total Purchase Value\": '${:,.2f}',\n",
    "                               \"Average Total Purchase Per Person\":'${:,.2f}'})"
   ]
  },
  {
   "cell_type": "markdown",
   "metadata": {},
   "source": [
    "## Age Demographics"
   ]
  },
  {
   "cell_type": "markdown",
   "metadata": {},
   "source": [
    "* Establish bins for ages\n",
    "\n",
    "\n",
    "* Categorize the existing players using the age bins. Hint: use pd.cut()\n",
    "\n",
    "\n",
    "* Calculate the numbers and percentages by age group\n",
    "\n",
    "\n",
    "* Create a summary data frame to hold the results\n",
    "\n",
    "\n",
    "* Optional: round the percentage column to two decimal points\n",
    "\n",
    "\n",
    "* Display Age Demographics Table\n"
   ]
  },
  {
   "cell_type": "code",
   "execution_count": 6,
   "metadata": {},
   "outputs": [
    {
     "data": {
      "text/html": [
       "<style  type=\"text/css\" >\n",
       "</style><table id=\"T_382b4196_3b06_11eb_822b_9801a7991ed5\" ><thead>    <tr>        <th class=\"blank level0\" ></th>        <th class=\"col_heading level0 col0\" >Total Count</th>        <th class=\"col_heading level0 col1\" >Percentage of Players</th>    </tr>    <tr>        <th class=\"index_name level0\" >Age Group</th>        <th class=\"blank\" ></th>        <th class=\"blank\" ></th>    </tr></thead><tbody>\n",
       "                <tr>\n",
       "                        <th id=\"T_382b4196_3b06_11eb_822b_9801a7991ed5level0_row0\" class=\"row_heading level0 row0\" ><10</th>\n",
       "                        <td id=\"T_382b4196_3b06_11eb_822b_9801a7991ed5row0_col0\" class=\"data row0 col0\" >17</td>\n",
       "                        <td id=\"T_382b4196_3b06_11eb_822b_9801a7991ed5row0_col1\" class=\"data row0 col1\" >2.95%</td>\n",
       "            </tr>\n",
       "            <tr>\n",
       "                        <th id=\"T_382b4196_3b06_11eb_822b_9801a7991ed5level0_row1\" class=\"row_heading level0 row1\" >10-14</th>\n",
       "                        <td id=\"T_382b4196_3b06_11eb_822b_9801a7991ed5row1_col0\" class=\"data row1 col0\" >22</td>\n",
       "                        <td id=\"T_382b4196_3b06_11eb_822b_9801a7991ed5row1_col1\" class=\"data row1 col1\" >3.82%</td>\n",
       "            </tr>\n",
       "            <tr>\n",
       "                        <th id=\"T_382b4196_3b06_11eb_822b_9801a7991ed5level0_row2\" class=\"row_heading level0 row2\" >15-19</th>\n",
       "                        <td id=\"T_382b4196_3b06_11eb_822b_9801a7991ed5row2_col0\" class=\"data row2 col0\" >107</td>\n",
       "                        <td id=\"T_382b4196_3b06_11eb_822b_9801a7991ed5row2_col1\" class=\"data row2 col1\" >18.58%</td>\n",
       "            </tr>\n",
       "            <tr>\n",
       "                        <th id=\"T_382b4196_3b06_11eb_822b_9801a7991ed5level0_row3\" class=\"row_heading level0 row3\" >20-24</th>\n",
       "                        <td id=\"T_382b4196_3b06_11eb_822b_9801a7991ed5row3_col0\" class=\"data row3 col0\" >258</td>\n",
       "                        <td id=\"T_382b4196_3b06_11eb_822b_9801a7991ed5row3_col1\" class=\"data row3 col1\" >44.79%</td>\n",
       "            </tr>\n",
       "            <tr>\n",
       "                        <th id=\"T_382b4196_3b06_11eb_822b_9801a7991ed5level0_row4\" class=\"row_heading level0 row4\" >25-29</th>\n",
       "                        <td id=\"T_382b4196_3b06_11eb_822b_9801a7991ed5row4_col0\" class=\"data row4 col0\" >77</td>\n",
       "                        <td id=\"T_382b4196_3b06_11eb_822b_9801a7991ed5row4_col1\" class=\"data row4 col1\" >13.37%</td>\n",
       "            </tr>\n",
       "            <tr>\n",
       "                        <th id=\"T_382b4196_3b06_11eb_822b_9801a7991ed5level0_row5\" class=\"row_heading level0 row5\" >30-34</th>\n",
       "                        <td id=\"T_382b4196_3b06_11eb_822b_9801a7991ed5row5_col0\" class=\"data row5 col0\" >52</td>\n",
       "                        <td id=\"T_382b4196_3b06_11eb_822b_9801a7991ed5row5_col1\" class=\"data row5 col1\" >9.03%</td>\n",
       "            </tr>\n",
       "            <tr>\n",
       "                        <th id=\"T_382b4196_3b06_11eb_822b_9801a7991ed5level0_row6\" class=\"row_heading level0 row6\" >35-39</th>\n",
       "                        <td id=\"T_382b4196_3b06_11eb_822b_9801a7991ed5row6_col0\" class=\"data row6 col0\" >31</td>\n",
       "                        <td id=\"T_382b4196_3b06_11eb_822b_9801a7991ed5row6_col1\" class=\"data row6 col1\" >5.38%</td>\n",
       "            </tr>\n",
       "            <tr>\n",
       "                        <th id=\"T_382b4196_3b06_11eb_822b_9801a7991ed5level0_row7\" class=\"row_heading level0 row7\" >40+</th>\n",
       "                        <td id=\"T_382b4196_3b06_11eb_822b_9801a7991ed5row7_col0\" class=\"data row7 col0\" >12</td>\n",
       "                        <td id=\"T_382b4196_3b06_11eb_822b_9801a7991ed5row7_col1\" class=\"data row7 col1\" >2.08%</td>\n",
       "            </tr>\n",
       "    </tbody></table>"
      ],
      "text/plain": [
       "<pandas.io.formats.style.Styler at 0x7f93e3433580>"
      ]
     },
     "execution_count": 6,
     "metadata": {},
     "output_type": "execute_result"
    }
   ],
   "source": [
    "# Create Bins that organize the ages as follows: <10, 10-14, 15-19, 20-24, 25-29, 30-34, 35-39, 40+   \n",
    "age_bins = [0, 9.9, 14, 19, 24, 29, 34, 39, 999]\n",
    "bin_titles = [\"<10\", \"10-14\", \"15-19\", \"20-24\", \"25-29\", \"30-34\", \"35-39\", \"40+\"]\n",
    "\n",
    "# Segment and sort age values into bins established above\n",
    "purchase_data_df[\"Age Group\"] = pd.cut(purchase_data_df[\"Age\"], age_bins, labels = bin_titles)\n",
    "\n",
    "#Group by age buckets\n",
    "purchase_by_age_df = purchase_data_df.groupby(['Age Group'])\n",
    "\n",
    "# Count the total of screen names \"SN\" by age group and find sum of all\n",
    "total_count_age_sn = purchase_by_age_df.nunique()[\"SN\"]\n",
    "\n",
    "total_players = total_count_age_sn.sum()\n",
    "\n",
    "percentage_of_age = total_count_age_sn/total_players*100\n",
    "\n",
    "age_demographics_df = pd.DataFrame({\n",
    "    \"Total Count\": total_count_age_sn,\n",
    "    \"Percentage of Players\": percentage_of_age\n",
    "})\n",
    "\n",
    "age_demographics_df.style.format({\"Percentage of Players\":\"{:,.2f}%\"})\n"
   ]
  },
  {
   "cell_type": "markdown",
   "metadata": {},
   "source": [
    "## Purchasing Analysis (Age)"
   ]
  },
  {
   "cell_type": "markdown",
   "metadata": {},
   "source": [
    "* Bin the purchase_data data frame by age\n",
    "\n",
    "\n",
    "* Run basic calculations to obtain purchase count, avg. purchase price, avg. purchase total per person etc. in the table below\n",
    "\n",
    "\n",
    "* Create a summary data frame to hold the results\n",
    "\n",
    "\n",
    "* Optional: give the displayed data cleaner formatting\n",
    "\n",
    "\n",
    "* Display the summary data frame"
   ]
  },
  {
   "cell_type": "code",
   "execution_count": 7,
   "metadata": {},
   "outputs": [
    {
     "data": {
      "text/html": [
       "<style  type=\"text/css\" >\n",
       "</style><table id=\"T_3835c094_3b06_11eb_822b_9801a7991ed5\" ><thead>    <tr>        <th class=\"blank level0\" ></th>        <th class=\"col_heading level0 col0\" >Purchase Count</th>        <th class=\"col_heading level0 col1\" >Average Purchase Price</th>        <th class=\"col_heading level0 col2\" >Total Purchase Value</th>        <th class=\"col_heading level0 col3\" >Average Total Purchase Per Person</th>    </tr>    <tr>        <th class=\"index_name level0\" >Age Group</th>        <th class=\"blank\" ></th>        <th class=\"blank\" ></th>        <th class=\"blank\" ></th>        <th class=\"blank\" ></th>    </tr></thead><tbody>\n",
       "                <tr>\n",
       "                        <th id=\"T_3835c094_3b06_11eb_822b_9801a7991ed5level0_row0\" class=\"row_heading level0 row0\" ><10</th>\n",
       "                        <td id=\"T_3835c094_3b06_11eb_822b_9801a7991ed5row0_col0\" class=\"data row0 col0\" >23</td>\n",
       "                        <td id=\"T_3835c094_3b06_11eb_822b_9801a7991ed5row0_col1\" class=\"data row0 col1\" >$3.35</td>\n",
       "                        <td id=\"T_3835c094_3b06_11eb_822b_9801a7991ed5row0_col2\" class=\"data row0 col2\" >$77.13</td>\n",
       "                        <td id=\"T_3835c094_3b06_11eb_822b_9801a7991ed5row0_col3\" class=\"data row0 col3\" >$4.54</td>\n",
       "            </tr>\n",
       "            <tr>\n",
       "                        <th id=\"T_3835c094_3b06_11eb_822b_9801a7991ed5level0_row1\" class=\"row_heading level0 row1\" >10-14</th>\n",
       "                        <td id=\"T_3835c094_3b06_11eb_822b_9801a7991ed5row1_col0\" class=\"data row1 col0\" >28</td>\n",
       "                        <td id=\"T_3835c094_3b06_11eb_822b_9801a7991ed5row1_col1\" class=\"data row1 col1\" >$2.96</td>\n",
       "                        <td id=\"T_3835c094_3b06_11eb_822b_9801a7991ed5row1_col2\" class=\"data row1 col2\" >$82.78</td>\n",
       "                        <td id=\"T_3835c094_3b06_11eb_822b_9801a7991ed5row1_col3\" class=\"data row1 col3\" >$3.76</td>\n",
       "            </tr>\n",
       "            <tr>\n",
       "                        <th id=\"T_3835c094_3b06_11eb_822b_9801a7991ed5level0_row2\" class=\"row_heading level0 row2\" >15-19</th>\n",
       "                        <td id=\"T_3835c094_3b06_11eb_822b_9801a7991ed5row2_col0\" class=\"data row2 col0\" >136</td>\n",
       "                        <td id=\"T_3835c094_3b06_11eb_822b_9801a7991ed5row2_col1\" class=\"data row2 col1\" >$3.04</td>\n",
       "                        <td id=\"T_3835c094_3b06_11eb_822b_9801a7991ed5row2_col2\" class=\"data row2 col2\" >$412.89</td>\n",
       "                        <td id=\"T_3835c094_3b06_11eb_822b_9801a7991ed5row2_col3\" class=\"data row2 col3\" >$3.86</td>\n",
       "            </tr>\n",
       "            <tr>\n",
       "                        <th id=\"T_3835c094_3b06_11eb_822b_9801a7991ed5level0_row3\" class=\"row_heading level0 row3\" >20-24</th>\n",
       "                        <td id=\"T_3835c094_3b06_11eb_822b_9801a7991ed5row3_col0\" class=\"data row3 col0\" >365</td>\n",
       "                        <td id=\"T_3835c094_3b06_11eb_822b_9801a7991ed5row3_col1\" class=\"data row3 col1\" >$3.05</td>\n",
       "                        <td id=\"T_3835c094_3b06_11eb_822b_9801a7991ed5row3_col2\" class=\"data row3 col2\" >$1,114.06</td>\n",
       "                        <td id=\"T_3835c094_3b06_11eb_822b_9801a7991ed5row3_col3\" class=\"data row3 col3\" >$4.32</td>\n",
       "            </tr>\n",
       "            <tr>\n",
       "                        <th id=\"T_3835c094_3b06_11eb_822b_9801a7991ed5level0_row4\" class=\"row_heading level0 row4\" >25-29</th>\n",
       "                        <td id=\"T_3835c094_3b06_11eb_822b_9801a7991ed5row4_col0\" class=\"data row4 col0\" >101</td>\n",
       "                        <td id=\"T_3835c094_3b06_11eb_822b_9801a7991ed5row4_col1\" class=\"data row4 col1\" >$2.90</td>\n",
       "                        <td id=\"T_3835c094_3b06_11eb_822b_9801a7991ed5row4_col2\" class=\"data row4 col2\" >$293.00</td>\n",
       "                        <td id=\"T_3835c094_3b06_11eb_822b_9801a7991ed5row4_col3\" class=\"data row4 col3\" >$3.81</td>\n",
       "            </tr>\n",
       "            <tr>\n",
       "                        <th id=\"T_3835c094_3b06_11eb_822b_9801a7991ed5level0_row5\" class=\"row_heading level0 row5\" >30-34</th>\n",
       "                        <td id=\"T_3835c094_3b06_11eb_822b_9801a7991ed5row5_col0\" class=\"data row5 col0\" >73</td>\n",
       "                        <td id=\"T_3835c094_3b06_11eb_822b_9801a7991ed5row5_col1\" class=\"data row5 col1\" >$2.93</td>\n",
       "                        <td id=\"T_3835c094_3b06_11eb_822b_9801a7991ed5row5_col2\" class=\"data row5 col2\" >$214.00</td>\n",
       "                        <td id=\"T_3835c094_3b06_11eb_822b_9801a7991ed5row5_col3\" class=\"data row5 col3\" >$4.12</td>\n",
       "            </tr>\n",
       "            <tr>\n",
       "                        <th id=\"T_3835c094_3b06_11eb_822b_9801a7991ed5level0_row6\" class=\"row_heading level0 row6\" >35-39</th>\n",
       "                        <td id=\"T_3835c094_3b06_11eb_822b_9801a7991ed5row6_col0\" class=\"data row6 col0\" >41</td>\n",
       "                        <td id=\"T_3835c094_3b06_11eb_822b_9801a7991ed5row6_col1\" class=\"data row6 col1\" >$3.60</td>\n",
       "                        <td id=\"T_3835c094_3b06_11eb_822b_9801a7991ed5row6_col2\" class=\"data row6 col2\" >$147.67</td>\n",
       "                        <td id=\"T_3835c094_3b06_11eb_822b_9801a7991ed5row6_col3\" class=\"data row6 col3\" >$4.76</td>\n",
       "            </tr>\n",
       "            <tr>\n",
       "                        <th id=\"T_3835c094_3b06_11eb_822b_9801a7991ed5level0_row7\" class=\"row_heading level0 row7\" >40+</th>\n",
       "                        <td id=\"T_3835c094_3b06_11eb_822b_9801a7991ed5row7_col0\" class=\"data row7 col0\" >13</td>\n",
       "                        <td id=\"T_3835c094_3b06_11eb_822b_9801a7991ed5row7_col1\" class=\"data row7 col1\" >$2.94</td>\n",
       "                        <td id=\"T_3835c094_3b06_11eb_822b_9801a7991ed5row7_col2\" class=\"data row7 col2\" >$38.24</td>\n",
       "                        <td id=\"T_3835c094_3b06_11eb_822b_9801a7991ed5row7_col3\" class=\"data row7 col3\" >$3.19</td>\n",
       "            </tr>\n",
       "    </tbody></table>"
      ],
      "text/plain": [
       "<pandas.io.formats.style.Styler at 0x7f93e342d9a0>"
      ]
     },
     "execution_count": 7,
     "metadata": {},
     "output_type": "execute_result"
    }
   ],
   "source": [
    "# Create Bins that organize the ages as follows: <10, 10-14, 15-19, 20-24, 25-29, 30-34, 35-39, 40+   \n",
    "age_bins = [0, 9.9, 14, 19, 24, 29, 34, 39, 999]\n",
    "bin_titles = [\"<10\", \"10-14\", \"15-19\", \"20-24\", \"25-29\", \"30-34\", \"35-39\", \"40+\"]\n",
    "\n",
    "# Segment and sort age values into bins established above\n",
    "purchase_data_df[\"Age Group\"] = pd.cut(purchase_data_df[\"Age\"], age_bins, labels = bin_titles)\n",
    "\n",
    "#Group by age buckets\n",
    "purchase_by_age_group_df = purchase_data_df.groupby(['Age Group'])\n",
    "\n",
    "# Count the total of screen names \"SN\" by age group\n",
    "total_count_age_group_sn = purchase_by_age_group_df.nunique()[\"SN\"]\n",
    "\n",
    "# Purchase Count: Finding count by age group\n",
    "age_group_count = purchase_by_age_group_df['Age Group'].count()\n",
    "\n",
    "# Average Purchase Price by age group\n",
    "age_group_average_purchase_price = purchase_by_age_group_df['Price'].mean()\n",
    "\n",
    "# Total Purchase Value\n",
    "age_group_total_purchase_value = purchase_by_age_group_df['Price'].sum()\n",
    "\n",
    "#Avg Total Purchase per Person\n",
    "average_total_purchase_pp = age_group_total_purchase_value/total_count_age_group_sn\n",
    "\n",
    "#Create summary dataframe\n",
    "age_analysis_purchase_summary_df = pd.DataFrame({\n",
    "    \"Purchase Count\": age_group_count,\n",
    "    \"Average Purchase Price\": age_group_average_purchase_price,\n",
    "    \"Total Purchase Value\": age_group_total_purchase_value,\n",
    "    \"Average Total Purchase Per Person\": average_total_purchase_pp\n",
    "})\n",
    "\n",
    "age_analysis_purchase_summary_df.style.format({\"Average Purchase Price\":\"${:,.2f}\",\n",
    "                         \"Total Purchase Value\": '${:,.2f}',\n",
    "                               \"Average Total Purchase Per Person\":'${:,.2f}'})\n"
   ]
  },
  {
   "cell_type": "markdown",
   "metadata": {},
   "source": [
    "## Top Spenders"
   ]
  },
  {
   "cell_type": "markdown",
   "metadata": {},
   "source": [
    "* Run basic calculations to obtain the results in the table below\n",
    "\n",
    "\n",
    "* Create a summary data frame to hold the results\n",
    "\n",
    "\n",
    "* Sort the total purchase value column in descending order\n",
    "\n",
    "\n",
    "* Optional: give the displayed data cleaner formatting\n",
    "\n",
    "\n",
    "* Display a preview of the summary data frame\n",
    "\n"
   ]
  },
  {
   "cell_type": "code",
   "execution_count": 8,
   "metadata": {},
   "outputs": [
    {
     "data": {
      "text/html": [
       "<style  type=\"text/css\" >\n",
       "</style><table id=\"T_383ef1c8_3b06_11eb_822b_9801a7991ed5\" ><thead>    <tr>        <th class=\"blank level0\" ></th>        <th class=\"col_heading level0 col0\" >Purchase Count</th>        <th class=\"col_heading level0 col1\" >Average Purchase Price</th>        <th class=\"col_heading level0 col2\" >Total Purchase Value</th>    </tr>    <tr>        <th class=\"index_name level0\" >SN</th>        <th class=\"blank\" ></th>        <th class=\"blank\" ></th>        <th class=\"blank\" ></th>    </tr></thead><tbody>\n",
       "                <tr>\n",
       "                        <th id=\"T_383ef1c8_3b06_11eb_822b_9801a7991ed5level0_row0\" class=\"row_heading level0 row0\" >Lisosia93</th>\n",
       "                        <td id=\"T_383ef1c8_3b06_11eb_822b_9801a7991ed5row0_col0\" class=\"data row0 col0\" >5</td>\n",
       "                        <td id=\"T_383ef1c8_3b06_11eb_822b_9801a7991ed5row0_col1\" class=\"data row0 col1\" >$3.79</td>\n",
       "                        <td id=\"T_383ef1c8_3b06_11eb_822b_9801a7991ed5row0_col2\" class=\"data row0 col2\" >$18.96</td>\n",
       "            </tr>\n",
       "            <tr>\n",
       "                        <th id=\"T_383ef1c8_3b06_11eb_822b_9801a7991ed5level0_row1\" class=\"row_heading level0 row1\" >Idastidru52</th>\n",
       "                        <td id=\"T_383ef1c8_3b06_11eb_822b_9801a7991ed5row1_col0\" class=\"data row1 col0\" >4</td>\n",
       "                        <td id=\"T_383ef1c8_3b06_11eb_822b_9801a7991ed5row1_col1\" class=\"data row1 col1\" >$3.86</td>\n",
       "                        <td id=\"T_383ef1c8_3b06_11eb_822b_9801a7991ed5row1_col2\" class=\"data row1 col2\" >$15.45</td>\n",
       "            </tr>\n",
       "            <tr>\n",
       "                        <th id=\"T_383ef1c8_3b06_11eb_822b_9801a7991ed5level0_row2\" class=\"row_heading level0 row2\" >Chamjask73</th>\n",
       "                        <td id=\"T_383ef1c8_3b06_11eb_822b_9801a7991ed5row2_col0\" class=\"data row2 col0\" >3</td>\n",
       "                        <td id=\"T_383ef1c8_3b06_11eb_822b_9801a7991ed5row2_col1\" class=\"data row2 col1\" >$4.61</td>\n",
       "                        <td id=\"T_383ef1c8_3b06_11eb_822b_9801a7991ed5row2_col2\" class=\"data row2 col2\" >$13.83</td>\n",
       "            </tr>\n",
       "            <tr>\n",
       "                        <th id=\"T_383ef1c8_3b06_11eb_822b_9801a7991ed5level0_row3\" class=\"row_heading level0 row3\" >Iral74</th>\n",
       "                        <td id=\"T_383ef1c8_3b06_11eb_822b_9801a7991ed5row3_col0\" class=\"data row3 col0\" >4</td>\n",
       "                        <td id=\"T_383ef1c8_3b06_11eb_822b_9801a7991ed5row3_col1\" class=\"data row3 col1\" >$3.40</td>\n",
       "                        <td id=\"T_383ef1c8_3b06_11eb_822b_9801a7991ed5row3_col2\" class=\"data row3 col2\" >$13.62</td>\n",
       "            </tr>\n",
       "            <tr>\n",
       "                        <th id=\"T_383ef1c8_3b06_11eb_822b_9801a7991ed5level0_row4\" class=\"row_heading level0 row4\" >Iskadarya95</th>\n",
       "                        <td id=\"T_383ef1c8_3b06_11eb_822b_9801a7991ed5row4_col0\" class=\"data row4 col0\" >3</td>\n",
       "                        <td id=\"T_383ef1c8_3b06_11eb_822b_9801a7991ed5row4_col1\" class=\"data row4 col1\" >$4.37</td>\n",
       "                        <td id=\"T_383ef1c8_3b06_11eb_822b_9801a7991ed5row4_col2\" class=\"data row4 col2\" >$13.10</td>\n",
       "            </tr>\n",
       "    </tbody></table>"
      ],
      "text/plain": [
       "<pandas.io.formats.style.Styler at 0x7f93e474db50>"
      ]
     },
     "execution_count": 8,
     "metadata": {},
     "output_type": "execute_result"
    }
   ],
   "source": [
    "#Group by SN\n",
    "purchase_by_sn_df = purchase_data_df.groupby(['SN'])\n",
    "\n",
    "# Find Top Spenders Purchase Count\n",
    "sn_purchase_count = purchase_by_sn_df['Purchase ID'].count()\n",
    "\n",
    "# Find Top Spenders Average Purchase Price\n",
    "sn_avg_purchase_price = purchase_by_sn_df[\"Price\"].mean()\n",
    "\n",
    "#Find Top Spenders Total Purchase Value\n",
    "sn_total_purchase_value = purchase_by_sn_df[\"Price\"].sum()\n",
    "\n",
    "#Create Summary data frame\n",
    "top_spenders_df = pd.DataFrame({\n",
    "    \"Purchase Count\": sn_purchase_count,\n",
    "    \"Average Purchase Price\": sn_avg_purchase_price,\n",
    "    \"Total Purchase Value\": sn_total_purchase_value\n",
    "})\n",
    "\n",
    "# Sort data frame\n",
    "sorted_top_spenders_df = top_spenders_df.sort_values([\"Total Purchase Value\"], ascending=False).head(5)\n",
    "\n",
    "sorted_top_spenders_df.style.format({\"Average Purchase Price\":\"${:,.2f}\",\n",
    "                         \"Total Purchase Value\": '${:,.2f}'})"
   ]
  },
  {
   "cell_type": "markdown",
   "metadata": {},
   "source": [
    "## Most Popular Items"
   ]
  },
  {
   "cell_type": "markdown",
   "metadata": {},
   "source": [
    "* Retrieve the Item ID, Item Name, and Item Price columns\n",
    "\n",
    "\n",
    "* Group by Item ID and Item Name. Perform calculations to obtain purchase count, average item price, and total purchase value\n",
    "\n",
    "\n",
    "* Create a summary data frame to hold the results\n",
    "\n",
    "\n",
    "* Sort the purchase count column in descending order\n",
    "\n",
    "\n",
    "* Optional: give the displayed data cleaner formatting\n",
    "\n",
    "\n",
    "* Display a preview of the summary data frame\n",
    "\n"
   ]
  },
  {
   "cell_type": "code",
   "execution_count": 9,
   "metadata": {},
   "outputs": [
    {
     "data": {
      "text/html": [
       "<style  type=\"text/css\" >\n",
       "</style><table id=\"T_3849c986_3b06_11eb_822b_9801a7991ed5\" ><thead>    <tr>        <th class=\"blank\" ></th>        <th class=\"blank level0\" ></th>        <th class=\"col_heading level0 col0\" >Purchase Count</th>        <th class=\"col_heading level0 col1\" >Item Price</th>        <th class=\"col_heading level0 col2\" >Total Purchase Value</th>    </tr>    <tr>        <th class=\"index_name level0\" >Item ID</th>        <th class=\"index_name level1\" >Item Name</th>        <th class=\"blank\" ></th>        <th class=\"blank\" ></th>        <th class=\"blank\" ></th>    </tr></thead><tbody>\n",
       "                <tr>\n",
       "                        <th id=\"T_3849c986_3b06_11eb_822b_9801a7991ed5level0_row0\" class=\"row_heading level0 row0\" >92</th>\n",
       "                        <th id=\"T_3849c986_3b06_11eb_822b_9801a7991ed5level1_row0\" class=\"row_heading level1 row0\" >Final Critic</th>\n",
       "                        <td id=\"T_3849c986_3b06_11eb_822b_9801a7991ed5row0_col0\" class=\"data row0 col0\" >13</td>\n",
       "                        <td id=\"T_3849c986_3b06_11eb_822b_9801a7991ed5row0_col1\" class=\"data row0 col1\" >$4.61</td>\n",
       "                        <td id=\"T_3849c986_3b06_11eb_822b_9801a7991ed5row0_col2\" class=\"data row0 col2\" >$59.99</td>\n",
       "            </tr>\n",
       "            <tr>\n",
       "                        <th id=\"T_3849c986_3b06_11eb_822b_9801a7991ed5level0_row1\" class=\"row_heading level0 row1\" >178</th>\n",
       "                        <th id=\"T_3849c986_3b06_11eb_822b_9801a7991ed5level1_row1\" class=\"row_heading level1 row1\" >Oathbreaker, Last Hope of the Breaking Storm</th>\n",
       "                        <td id=\"T_3849c986_3b06_11eb_822b_9801a7991ed5row1_col0\" class=\"data row1 col0\" >12</td>\n",
       "                        <td id=\"T_3849c986_3b06_11eb_822b_9801a7991ed5row1_col1\" class=\"data row1 col1\" >$4.23</td>\n",
       "                        <td id=\"T_3849c986_3b06_11eb_822b_9801a7991ed5row1_col2\" class=\"data row1 col2\" >$50.76</td>\n",
       "            </tr>\n",
       "            <tr>\n",
       "                        <th id=\"T_3849c986_3b06_11eb_822b_9801a7991ed5level0_row2\" class=\"row_heading level0 row2\" >145</th>\n",
       "                        <th id=\"T_3849c986_3b06_11eb_822b_9801a7991ed5level1_row2\" class=\"row_heading level1 row2\" >Fiery Glass Crusader</th>\n",
       "                        <td id=\"T_3849c986_3b06_11eb_822b_9801a7991ed5row2_col0\" class=\"data row2 col0\" >9</td>\n",
       "                        <td id=\"T_3849c986_3b06_11eb_822b_9801a7991ed5row2_col1\" class=\"data row2 col1\" >$4.58</td>\n",
       "                        <td id=\"T_3849c986_3b06_11eb_822b_9801a7991ed5row2_col2\" class=\"data row2 col2\" >$41.22</td>\n",
       "            </tr>\n",
       "            <tr>\n",
       "                        <th id=\"T_3849c986_3b06_11eb_822b_9801a7991ed5level0_row3\" class=\"row_heading level0 row3\" >132</th>\n",
       "                        <th id=\"T_3849c986_3b06_11eb_822b_9801a7991ed5level1_row3\" class=\"row_heading level1 row3\" >Persuasion</th>\n",
       "                        <td id=\"T_3849c986_3b06_11eb_822b_9801a7991ed5row3_col0\" class=\"data row3 col0\" >9</td>\n",
       "                        <td id=\"T_3849c986_3b06_11eb_822b_9801a7991ed5row3_col1\" class=\"data row3 col1\" >$3.22</td>\n",
       "                        <td id=\"T_3849c986_3b06_11eb_822b_9801a7991ed5row3_col2\" class=\"data row3 col2\" >$28.99</td>\n",
       "            </tr>\n",
       "            <tr>\n",
       "                        <th id=\"T_3849c986_3b06_11eb_822b_9801a7991ed5level0_row4\" class=\"row_heading level0 row4\" >108</th>\n",
       "                        <th id=\"T_3849c986_3b06_11eb_822b_9801a7991ed5level1_row4\" class=\"row_heading level1 row4\" >Extraction, Quickblade Of Trembling Hands</th>\n",
       "                        <td id=\"T_3849c986_3b06_11eb_822b_9801a7991ed5row4_col0\" class=\"data row4 col0\" >9</td>\n",
       "                        <td id=\"T_3849c986_3b06_11eb_822b_9801a7991ed5row4_col1\" class=\"data row4 col1\" >$3.53</td>\n",
       "                        <td id=\"T_3849c986_3b06_11eb_822b_9801a7991ed5row4_col2\" class=\"data row4 col2\" >$31.77</td>\n",
       "            </tr>\n",
       "    </tbody></table>"
      ],
      "text/plain": [
       "<pandas.io.formats.style.Styler at 0x7f93e474d9d0>"
      ]
     },
     "execution_count": 9,
     "metadata": {},
     "output_type": "execute_result"
    }
   ],
   "source": [
    "#Retrieve the Item ID, Item Name and Item Price columns into a data frame\n",
    "most_popular_items_df = purchase_data_df[['Item ID', 'Item Name', 'Price']]\n",
    "\n",
    "# Group by Item ID AND Item Name\n",
    "popular_items_groupby = most_popular_items_df.groupby(['Item ID', 'Item Name'])\n",
    "\n",
    "# Purchase Count\n",
    "popular_items_purchase_count = popular_items_groupby['Price'].count()\n",
    "\n",
    "# Average Item Price\n",
    "popular_items_avg_price = popular_items_groupby['Price'].mean()\n",
    "\n",
    "# Total Purchase Value\n",
    "popular_items_total_value = popular_items_groupby['Price'].sum()\n",
    "\n",
    "#Create a summary data frame\n",
    "#Create Summary data frame\n",
    "popular_items_df = pd.DataFrame({\n",
    "    \"Purchase Count\": popular_items_purchase_count,\n",
    "    \"Item Price\": popular_items_avg_price,\n",
    "    \"Total Purchase Value\": popular_items_total_value\n",
    "})\n",
    "\n",
    "# Sort data frame\n",
    "sorted_popular_items_df = popular_items_df.sort_values([\"Purchase Count\"], ascending=False)\n",
    "\n",
    "sorted_popular_items_df.head().style.format({\"Item Price\":\"${:,.2f}\",\n",
    "                         \"Total Purchase Value\": '${:,.2f}'})\n"
   ]
  },
  {
   "cell_type": "markdown",
   "metadata": {},
   "source": [
    "## Most Profitable Items"
   ]
  },
  {
   "cell_type": "markdown",
   "metadata": {},
   "source": [
    "* Sort the above table by total purchase value in descending order\n",
    "\n",
    "\n",
    "* Optional: give the displayed data cleaner formatting\n",
    "\n",
    "\n",
    "* Display a preview of the data frame\n",
    "\n"
   ]
  },
  {
   "cell_type": "code",
   "execution_count": 13,
   "metadata": {
    "scrolled": true
   },
   "outputs": [
    {
     "data": {
      "text/html": [
       "<style  type=\"text/css\" >\n",
       "</style><table id=\"T_d33c03a0_3b06_11eb_822b_9801a7991ed5\" ><thead>    <tr>        <th class=\"blank\" ></th>        <th class=\"blank level0\" ></th>        <th class=\"col_heading level0 col0\" >Purchase Count</th>        <th class=\"col_heading level0 col1\" >Item Price</th>        <th class=\"col_heading level0 col2\" >Total Purchase Value</th>    </tr>    <tr>        <th class=\"index_name level0\" >Item ID</th>        <th class=\"index_name level1\" >Item Name</th>        <th class=\"blank\" ></th>        <th class=\"blank\" ></th>        <th class=\"blank\" ></th>    </tr></thead><tbody>\n",
       "                <tr>\n",
       "                        <th id=\"T_d33c03a0_3b06_11eb_822b_9801a7991ed5level0_row0\" class=\"row_heading level0 row0\" >92</th>\n",
       "                        <th id=\"T_d33c03a0_3b06_11eb_822b_9801a7991ed5level1_row0\" class=\"row_heading level1 row0\" >Final Critic</th>\n",
       "                        <td id=\"T_d33c03a0_3b06_11eb_822b_9801a7991ed5row0_col0\" class=\"data row0 col0\" >13</td>\n",
       "                        <td id=\"T_d33c03a0_3b06_11eb_822b_9801a7991ed5row0_col1\" class=\"data row0 col1\" >$4.61</td>\n",
       "                        <td id=\"T_d33c03a0_3b06_11eb_822b_9801a7991ed5row0_col2\" class=\"data row0 col2\" >$59.99</td>\n",
       "            </tr>\n",
       "            <tr>\n",
       "                        <th id=\"T_d33c03a0_3b06_11eb_822b_9801a7991ed5level0_row1\" class=\"row_heading level0 row1\" >178</th>\n",
       "                        <th id=\"T_d33c03a0_3b06_11eb_822b_9801a7991ed5level1_row1\" class=\"row_heading level1 row1\" >Oathbreaker, Last Hope of the Breaking Storm</th>\n",
       "                        <td id=\"T_d33c03a0_3b06_11eb_822b_9801a7991ed5row1_col0\" class=\"data row1 col0\" >12</td>\n",
       "                        <td id=\"T_d33c03a0_3b06_11eb_822b_9801a7991ed5row1_col1\" class=\"data row1 col1\" >$4.23</td>\n",
       "                        <td id=\"T_d33c03a0_3b06_11eb_822b_9801a7991ed5row1_col2\" class=\"data row1 col2\" >$50.76</td>\n",
       "            </tr>\n",
       "            <tr>\n",
       "                        <th id=\"T_d33c03a0_3b06_11eb_822b_9801a7991ed5level0_row2\" class=\"row_heading level0 row2\" >82</th>\n",
       "                        <th id=\"T_d33c03a0_3b06_11eb_822b_9801a7991ed5level1_row2\" class=\"row_heading level1 row2\" >Nirvana</th>\n",
       "                        <td id=\"T_d33c03a0_3b06_11eb_822b_9801a7991ed5row2_col0\" class=\"data row2 col0\" >9</td>\n",
       "                        <td id=\"T_d33c03a0_3b06_11eb_822b_9801a7991ed5row2_col1\" class=\"data row2 col1\" >$4.90</td>\n",
       "                        <td id=\"T_d33c03a0_3b06_11eb_822b_9801a7991ed5row2_col2\" class=\"data row2 col2\" >$44.10</td>\n",
       "            </tr>\n",
       "            <tr>\n",
       "                        <th id=\"T_d33c03a0_3b06_11eb_822b_9801a7991ed5level0_row3\" class=\"row_heading level0 row3\" >145</th>\n",
       "                        <th id=\"T_d33c03a0_3b06_11eb_822b_9801a7991ed5level1_row3\" class=\"row_heading level1 row3\" >Fiery Glass Crusader</th>\n",
       "                        <td id=\"T_d33c03a0_3b06_11eb_822b_9801a7991ed5row3_col0\" class=\"data row3 col0\" >9</td>\n",
       "                        <td id=\"T_d33c03a0_3b06_11eb_822b_9801a7991ed5row3_col1\" class=\"data row3 col1\" >$4.58</td>\n",
       "                        <td id=\"T_d33c03a0_3b06_11eb_822b_9801a7991ed5row3_col2\" class=\"data row3 col2\" >$41.22</td>\n",
       "            </tr>\n",
       "            <tr>\n",
       "                        <th id=\"T_d33c03a0_3b06_11eb_822b_9801a7991ed5level0_row4\" class=\"row_heading level0 row4\" >103</th>\n",
       "                        <th id=\"T_d33c03a0_3b06_11eb_822b_9801a7991ed5level1_row4\" class=\"row_heading level1 row4\" >Singed Scalpel</th>\n",
       "                        <td id=\"T_d33c03a0_3b06_11eb_822b_9801a7991ed5row4_col0\" class=\"data row4 col0\" >8</td>\n",
       "                        <td id=\"T_d33c03a0_3b06_11eb_822b_9801a7991ed5row4_col1\" class=\"data row4 col1\" >$4.35</td>\n",
       "                        <td id=\"T_d33c03a0_3b06_11eb_822b_9801a7991ed5row4_col2\" class=\"data row4 col2\" >$34.80</td>\n",
       "            </tr>\n",
       "    </tbody></table>"
      ],
      "text/plain": [
       "<pandas.io.formats.style.Styler at 0x7f93e474d160>"
      ]
     },
     "execution_count": 13,
     "metadata": {},
     "output_type": "execute_result"
    }
   ],
   "source": [
    "#Sort by total purchase value in descending order\n",
    "sorted_popular_items_df_2 = popular_items_df.sort_values([\"Total Purchase Value\"], ascending=False)\n",
    "\n",
    "#Update formatting\n",
    "sorted_popular_items_df_2.head().style.format({\"Item Price\":\"${:,.2f}\",\n",
    "                         \"Total Purchase Value\": '${:,.2f}'})"
   ]
  },
  {
   "cell_type": "code",
   "execution_count": null,
   "metadata": {},
   "outputs": [],
   "source": []
  }
 ],
 "metadata": {
  "anaconda-cloud": {},
  "kernel_info": {
   "name": "python3"
  },
  "kernelspec": {
   "display_name": "Python 3",
   "language": "python",
   "name": "python3"
  },
  "language_info": {
   "codemirror_mode": {
    "name": "ipython",
    "version": 3
   },
   "file_extension": ".py",
   "mimetype": "text/x-python",
   "name": "python",
   "nbconvert_exporter": "python",
   "pygments_lexer": "ipython3",
   "version": "3.8.3"
  },
  "latex_envs": {
   "LaTeX_envs_menu_present": true,
   "autoclose": false,
   "autocomplete": true,
   "bibliofile": "biblio.bib",
   "cite_by": "apalike",
   "current_citInitial": 1,
   "eqLabelWithNumbers": true,
   "eqNumInitial": 1,
   "hotkeys": {
    "equation": "Ctrl-E",
    "itemize": "Ctrl-I"
   },
   "labels_anchors": false,
   "latex_user_defs": false,
   "report_style_numbering": false,
   "user_envs_cfg": false
  },
  "nteract": {
   "version": "0.2.0"
  }
 },
 "nbformat": 4,
 "nbformat_minor": 2
}
